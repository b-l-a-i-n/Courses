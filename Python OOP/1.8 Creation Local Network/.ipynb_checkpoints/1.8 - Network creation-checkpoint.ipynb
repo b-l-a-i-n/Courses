{
 "cells": [
  {
   "cell_type": "code",
   "execution_count": 143,
   "id": "438718cc",
   "metadata": {},
   "outputs": [],
   "source": [
    "class Data:\n",
    "    def __init__(self, data:str, ip:int):\n",
    "        self.ip = ip\n",
    "        self.data = data\n",
    "\n",
    "class Server:\n",
    "    LAST_IP = 1\n",
    "    \n",
    "    def __init__(self):\n",
    "        self.ip = Server.LAST_IP\n",
    "        Server.LAST_IP += 1\n",
    "        self.router = None\n",
    "        self.buffer = []\n",
    "    \n",
    "    def send_data(self, data:Data):\n",
    "        self.router.buffer.append(data)\n",
    "    \n",
    "    def get_data(self):\n",
    "        buffer = [packet for packet in self.buffer]\n",
    "        self.buffer.clear()\n",
    "        return buffer\n",
    "    \n",
    "    def get_ip(self):\n",
    "        return self.ip\n",
    "\n",
    "class Router:\n",
    "    def __init__(self):\n",
    "        self.links = {}\n",
    "        self.buffer = []\n",
    "    \n",
    "    def link(self, server):\n",
    "        server.router = self\n",
    "        self.links[server.ip] = server\n",
    "    \n",
    "    def unlink(self, server):\n",
    "        unlinked_server = self.links.pop(server.ip, False)\n",
    "        if unlinked_server:\n",
    "            unlinked_server.router = None\n",
    "    \n",
    "    def send_data(self):\n",
    "        for data in self.buffer:\n",
    "            if data.ip in self.links:\n",
    "                server = self.links[data.ip]\n",
    "                server.buffer.append(data)\n",
    "        self.buffer.clear()"
   ]
  },
  {
   "cell_type": "code",
   "execution_count": 144,
   "id": "a7ecd265",
   "metadata": {},
   "outputs": [],
   "source": [
    "router = Router()\n",
    "sv_from = Server()\n",
    "sv_from2 = Server()\n",
    "router.link(sv_from)\n",
    "router.link(sv_from2)\n",
    "router.link(Server())\n",
    "router.link(Server())\n",
    "sv_to = Server()\n",
    "router.link(sv_to)\n",
    "sv_from.send_data(Data(\"Hello\", sv_to.get_ip()))\n",
    "sv_from2.send_data(Data(\"Hello\", sv_to.get_ip()))\n",
    "sv_to.send_data(Data(\"Hi\", sv_from.get_ip()))\n",
    "router.send_data()\n",
    "msg_lst_from = sv_from.get_data()\n",
    "msg_lst_to = sv_to.get_data()"
   ]
  },
  {
   "cell_type": "code",
   "execution_count": 146,
   "id": "d4d57aea",
   "metadata": {},
   "outputs": [
    {
     "name": "stdout",
     "output_type": "stream",
     "text": [
      "Router -  1 Message:  Hi\n",
      "Router -  5 Message:  Hello\n",
      "Router -  5 Message:  Hello\n"
     ]
    }
   ],
   "source": [
    "for msg in msg_lst_from:\n",
    "    print(\"Router - \", msg.ip, 'Message: ', msg.data)\n",
    "for msg in msg_lst_to:\n",
    "    print(\"Router - \", msg.ip, 'Message: ', msg.data)"
   ]
  },
  {
   "cell_type": "code",
   "execution_count": null,
   "id": "1f2c562f",
   "metadata": {},
   "outputs": [],
   "source": []
  }
 ],
 "metadata": {
  "kernelspec": {
   "display_name": "Python 3 (ipykernel)",
   "language": "python",
   "name": "python3"
  },
  "language_info": {
   "codemirror_mode": {
    "name": "ipython",
    "version": 3
   },
   "file_extension": ".py",
   "mimetype": "text/x-python",
   "name": "python",
   "nbconvert_exporter": "python",
   "pygments_lexer": "ipython3",
   "version": "3.10.7"
  }
 },
 "nbformat": 4,
 "nbformat_minor": 5
}
