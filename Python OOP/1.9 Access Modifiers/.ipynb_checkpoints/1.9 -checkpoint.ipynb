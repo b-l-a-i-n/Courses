{
 "cells": [
  {
   "cell_type": "markdown",
   "id": "46e5968f",
   "metadata": {},
   "source": [
    "### 2.1.3"
   ]
  },
  {
   "cell_type": "code",
   "execution_count": null,
   "id": "36994d2e",
   "metadata": {},
   "outputs": [],
   "source": [
    "class Clock:\n",
    "    def __init__(self, time = 0):\n",
    "        if self.__check_time(time):\n",
    "            self.__time = time\n",
    "        else:\n",
    "            self.__time = 0\n",
    "            \n",
    "    def set_time(self, tm):\n",
    "        if self.__check_time(tm):\n",
    "            self.__time = tm\n",
    "            \n",
    "    def get_time(self):\n",
    "        return self.__time\n",
    "    \n",
    "    @staticmethod\n",
    "    def __check_time(tm):\n",
    "        if type(tm) == int and tm >= 0 and tm < 100000:\n",
    "            return True\n",
    "        else:\n",
    "            return False\n",
    "clock = Clock(4530)"
   ]
  },
  {
   "cell_type": "markdown",
   "id": "5a090a8c",
   "metadata": {},
   "source": [
    "### 2.1.4"
   ]
  },
  {
   "cell_type": "code",
   "execution_count": null,
   "id": "6fd186b1",
   "metadata": {},
   "outputs": [],
   "source": [
    "class Money:\n",
    "    def __init__(self, money):\n",
    "        if self.check_money(money):\n",
    "            self.__money = money\n",
    "        eslse:\n",
    "            self.__money = 0\n",
    "    \n",
    "    @staticmethod\n",
    "    def __check_money(money):\n",
    "        if type(money) == int and money >= 0:\n",
    "            return True\n",
    "        else:\n",
    "            return False\n",
    "    \n",
    "    def set_money(self, money):\n",
    "        if __check_money(money):\n",
    "            self.__money = money\n",
    "    \n",
    "    def add_money(self, mn):\n",
    "        if __check_money(mn):\n",
    "            self.__money += mn"
   ]
  }
 ],
 "metadata": {
  "kernelspec": {
   "display_name": "Python 3 (ipykernel)",
   "language": "python",
   "name": "python3"
  },
  "language_info": {
   "codemirror_mode": {
    "name": "ipython",
    "version": 3
   },
   "file_extension": ".py",
   "mimetype": "text/x-python",
   "name": "python",
   "nbconvert_exporter": "python",
   "pygments_lexer": "ipython3",
   "version": "3.10.7"
  }
 },
 "nbformat": 4,
 "nbformat_minor": 5
}
