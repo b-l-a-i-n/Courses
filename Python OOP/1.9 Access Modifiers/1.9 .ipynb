{
 "cells": [
  {
   "cell_type": "markdown",
   "id": "e8a7e121",
   "metadata": {},
   "source": [
    "### 2.1.3"
   ]
  },
  {
   "cell_type": "code",
   "execution_count": null,
   "id": "a8cec625",
   "metadata": {},
   "outputs": [],
   "source": [
    "class Clock:\n",
    "    def __init__(self, time = 0):\n",
    "        if self.__check_time(time):\n",
    "            self.__time = time\n",
    "        else:\n",
    "            self.__time = 0\n",
    "            \n",
    "    def set_time(self, tm):\n",
    "        if self.__check_time(tm):\n",
    "            self.__time = tm\n",
    "            \n",
    "    def get_time(self):\n",
    "        return self.__time\n",
    "    \n",
    "    @staticmethod\n",
    "    def __check_time(tm):\n",
    "        if type(tm) == int and tm >= 0 and tm < 100000:\n",
    "            return True\n",
    "        else:\n",
    "            return False\n",
    "clock = Clock(4530)"
   ]
  },
  {
   "cell_type": "markdown",
   "id": "3677856a",
   "metadata": {},
   "source": [
    "### 2.1.4"
   ]
  },
  {
   "cell_type": "code",
   "execution_count": 29,
   "id": "a6f29612",
   "metadata": {},
   "outputs": [],
   "source": [
    "class Money:\n",
    "    def __init__(self, money):\n",
    "        if self.__check_money(money):\n",
    "            self.__money = money\n",
    "        else:\n",
    "            self.__money = 0\n",
    "    \n",
    "    @staticmethod\n",
    "    def __check_money(money):\n",
    "        if type(money) == int and money >= 0:\n",
    "            return True\n",
    "        else:\n",
    "            return False\n",
    "    \n",
    "    def set_money(self, money):\n",
    "        if self.__check_money(money):\n",
    "            self.__money = money\n",
    "    \n",
    "    def add_money(self, mn):\n",
    "        money = mn.get_money()\n",
    "        if self.__check_money(money):\n",
    "            self.__money += money\n",
    "    \n",
    "    def get_money(self):\n",
    "        return self.__money"
   ]
  },
  {
   "cell_type": "code",
   "execution_count": 30,
   "id": "169636cc",
   "metadata": {},
   "outputs": [],
   "source": [
    "mn_1 = Money(10)\n",
    "mn_2 = Money(20)\n",
    "mn_1.set_money(100)\n",
    "mn_2.add_money(mn_1)\n",
    "m1 = mn_1.get_money()    # 100\n",
    "m2 = mn_2.get_money()    # 120"
   ]
  },
  {
   "cell_type": "code",
   "execution_count": 31,
   "id": "16ff84b2",
   "metadata": {},
   "outputs": [
    {
     "data": {
      "text/plain": [
       "100"
      ]
     },
     "execution_count": 31,
     "metadata": {},
     "output_type": "execute_result"
    }
   ],
   "source": [
    "m1"
   ]
  },
  {
   "cell_type": "code",
   "execution_count": 32,
   "id": "88babf00",
   "metadata": {},
   "outputs": [
    {
     "data": {
      "text/plain": [
       "120"
      ]
     },
     "execution_count": 32,
     "metadata": {},
     "output_type": "execute_result"
    }
   ],
   "source": [
    "m2"
   ]
  },
  {
   "cell_type": "code",
   "execution_count": null,
   "id": "3fa868db",
   "metadata": {},
   "outputs": [],
   "source": []
  }
 ],
 "metadata": {
  "kernelspec": {
   "display_name": "Python 3 (ipykernel)",
   "language": "python",
   "name": "python3"
  },
  "language_info": {
   "codemirror_mode": {
    "name": "ipython",
    "version": 3
   },
   "file_extension": ".py",
   "mimetype": "text/x-python",
   "name": "python",
   "nbconvert_exporter": "python",
   "pygments_lexer": "ipython3",
   "version": "3.10.7"
  }
 },
 "nbformat": 4,
 "nbformat_minor": 5
}
