{
 "cells": [
  {
   "cell_type": "markdown",
   "id": "e8a7e121",
   "metadata": {},
   "source": [
    "### 2.1.3"
   ]
  },
  {
   "cell_type": "code",
   "execution_count": null,
   "id": "a8cec625",
   "metadata": {},
   "outputs": [],
   "source": [
    "class Clock:\n",
    "    def __init__(self, time = 0):\n",
    "        if self.__check_time(time):\n",
    "            self.__time = time\n",
    "        else:\n",
    "            self.__time = 0\n",
    "            \n",
    "    def set_time(self, tm):\n",
    "        if self.__check_time(tm):\n",
    "            self.__time = tm\n",
    "            \n",
    "    def get_time(self):\n",
    "        return self.__time\n",
    "    \n",
    "    @staticmethod\n",
    "    def __check_time(tm):\n",
    "        if type(tm) == int and tm >= 0 and tm < 100000:\n",
    "            return True\n",
    "        else:\n",
    "            return False\n",
    "clock = Clock(4530)"
   ]
  },
  {
   "cell_type": "markdown",
   "id": "3677856a",
   "metadata": {},
   "source": [
    "### 2.1.4"
   ]
  },
  {
   "cell_type": "code",
   "execution_count": 29,
   "id": "a6f29612",
   "metadata": {},
   "outputs": [],
   "source": [
    "class Money:\n",
    "    def __init__(self, money):\n",
    "        if self.__check_money(money):\n",
    "            self.__money = money\n",
    "        else:\n",
    "            self.__money = 0\n",
    "    \n",
    "    @staticmethod\n",
    "    def __check_money(money):\n",
    "        if type(money) == int and money >= 0:\n",
    "            return True\n",
    "        else:\n",
    "            return False\n",
    "    \n",
    "    def set_money(self, money):\n",
    "        if self.__check_money(money):\n",
    "            self.__money = money\n",
    "    \n",
    "    def add_money(self, mn):\n",
    "        money = mn.get_money()\n",
    "        if self.__check_money(money):\n",
    "            self.__money += money\n",
    "    \n",
    "    def get_money(self):\n",
    "        return self.__money"
   ]
  },
  {
   "cell_type": "markdown",
   "id": "2b7ea791",
   "metadata": {},
   "source": [
    "### 2.1.6"
   ]
  },
  {
   "cell_type": "code",
   "execution_count": 9,
   "id": "3e480974",
   "metadata": {},
   "outputs": [],
   "source": [
    "class Book:\n",
    "    def __init__(self, author=None, title=None, price=None):\n",
    "        self.__title = title\n",
    "        self.__author = author\n",
    "        self.__price = price\n",
    "    \n",
    "    def set_title(self, title):\n",
    "        self.__title = title\n",
    "        \n",
    "    def set_author(self, author):\n",
    "        self.__author = author\n",
    "        \n",
    "    def set_price(self, price):\n",
    "        self.__price = price\n",
    "    \n",
    "    def get_title(self):\n",
    "        return self.__title\n",
    "    \n",
    "    def get_author(self):\n",
    "        return self.__author\n",
    "    \n",
    "    def get_price(self):\n",
    "        return self.__price\n",
    "        \n",
    "    "
   ]
  },
  {
   "cell_type": "markdown",
   "id": "42418662",
   "metadata": {},
   "source": [
    "### 2.1.7"
   ]
  },
  {
   "cell_type": "code",
   "execution_count": 28,
   "id": "1c591095",
   "metadata": {},
   "outputs": [],
   "source": [
    "class Line:\n",
    "    def __init__(self, x1, y1, x2, y2):\n",
    "        self.__x1 = x1\n",
    "        self.__x2 = x2\n",
    "        self.__y1 = y1\n",
    "        self.__y2 = y2\n",
    "    \n",
    "    def set_coords(self, x1, y1, x2, y2):\n",
    "        self.__x1 = x1\n",
    "        self.__x2 = x2\n",
    "        self.__y1 = y1\n",
    "        self.__y2 = y2\n",
    "    \n",
    "    def get_coords(self):\n",
    "        return [self.__x1, self.__y1, self.__x2, self.__y2]\n",
    "    \n",
    "    def draw(self):\n",
    "        print(' '.join([str(self.__x1), str(self.__y1), \n",
    "                         str(self.__x2), str(self.__y2)]))"
   ]
  },
  {
   "cell_type": "markdown",
   "id": "439b3bd2",
   "metadata": {},
   "source": [
    "### 2.1.7"
   ]
  },
  {
   "cell_type": "code",
   "execution_count": 34,
   "id": "3dcd6664",
   "metadata": {},
   "outputs": [],
   "source": [
    "class Point:\n",
    "    def __init__(self, x, y):\n",
    "        self.__x = x\n",
    "        self.__y = y\n",
    "    \n",
    "    def get_coords(self):\n",
    "        return [self.__x, self.__y]\n",
    "\n",
    "class Rectangle:\n",
    "    def __init__(self, *points):\n",
    "        if type(points[0]) == int:\n",
    "            self.__sp = Point(points[0], points[1])\n",
    "            self.__ep = Point(points[2], points[3])\n",
    "        else:\n",
    "            self.__sp = points[0]\n",
    "            self.__ep = points[1]\n",
    "    \n",
    "    def set_coords(self, sp, ep):\n",
    "        self.__sp = sp\n",
    "        self.__ep = ep\n",
    "    \n",
    "    def get_coords(self):\n",
    "        return [self.__sp, self.__ep]\n",
    "    \n",
    "    def draw(self):\n",
    "        sp = self.__sp.get_coords()\n",
    "        ep = self.__ep.get_coords()\n",
    "        print(f\"Прямоугольник с координатами: ({sp[0]}, {sp[1]}),({ep[0]}, {ep[1]})\")\n"
   ]
  },
  {
   "cell_type": "markdown",
   "id": "67593fec",
   "metadata": {},
   "source": [
    "### 2.1.8"
   ]
  },
  {
   "cell_type": "code",
   "execution_count": null,
   "id": "1c766cae",
   "metadata": {},
   "outputs": [],
   "source": []
  }
 ],
 "metadata": {
  "kernelspec": {
   "display_name": "Python 3 (ipykernel)",
   "language": "python",
   "name": "python3"
  },
  "language_info": {
   "codemirror_mode": {
    "name": "ipython",
    "version": 3
   },
   "file_extension": ".py",
   "mimetype": "text/x-python",
   "name": "python",
   "nbconvert_exporter": "python",
   "pygments_lexer": "ipython3",
   "version": "3.10.7"
  }
 },
 "nbformat": 4,
 "nbformat_minor": 5
}
